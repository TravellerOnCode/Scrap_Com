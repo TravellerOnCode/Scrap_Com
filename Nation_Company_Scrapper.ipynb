{
 "cells": [
  {
   "cell_type": "code",
   "execution_count": null,
   "metadata": {},
   "outputs": [],
   "source": [
    "import requests as req\n",
    "import pandas as pd\n",
    "import numphy\n",
    "import re\n",
    "from bs4 import BeautifulSoup \n",
    "from pandas import ExcelWriter\n",
    "\n"
   ]
  },
  {
   "cell_type": "code",
   "execution_count": null,
   "metadata": {},
   "outputs": [],
   "source": [
    "df1=pd.read_csv(r\"F:\\Company Data\\Data.csv\")\n",
    "#df1"
   ]
  },
  {
   "cell_type": "code",
   "execution_count": null,
   "metadata": {},
   "outputs": [],
   "source": [
    "len(df1)\n"
   ]
  },
  {
   "cell_type": "code",
   "execution_count": null,
   "metadata": {},
   "outputs": [],
   "source": [
    "    #df2 = df1.set_index(\"State\", drop = False)\n",
    "\n",
    "df2=df1[[ \"State\",\"Pincode\"]]\n",
    "#df2"
   ]
  },
  {
   "cell_type": "code",
   "execution_count": null,
   "metadata": {},
   "outputs": [],
   "source": [
    "type(df2.iloc[0][1])"
   ]
  },
  {
   "cell_type": "code",
   "execution_count": null,
   "metadata": {},
   "outputs": [],
   "source": [
    "def search_engine (pincode):\n",
    "    #pincode=pincode_.str()\n",
    "    s = \"http://pin-code.org.in/companies/viewall/\" + pincode\n",
    "    r = req.get(s,timeout= None)\n",
    "    soup = BeautifulSoup(r.text,'html.parser')\n",
    "    soup.prettify()\n",
    "    data_all = soup.find_all('div', class_ = \"slimScroller\")\n",
    "    data_all\n",
    "    \n",
    "    \n",
    "    \n",
    "    \n",
    "    \n",
    "    pincode_=[]\n",
    "    name = []\n",
    "    cin = []\n",
    "    status = []\n",
    "    class_ = []\n",
    "    category = []\n",
    "    capital = []\n",
    "    p_capital = []\n",
    "    date = []\n",
    "    activity = []\n",
    "    state = []\n",
    "    district = []\n",
    "    addr = []\n",
    "    big_data={}\n",
    "\n",
    "    length = len(data_all)\n",
    "    for j in range(length):\n",
    "        str1 = data_all[j].text\n",
    "        str1=str1+\"\\n\"\n",
    "        l=len(str1 )\n",
    "        company_data=[]\n",
    "        for i in range(l):\n",
    "            ch = str1[i]\n",
    "            if (ch==':'):\n",
    "\n",
    "                k=str1.index('\\n'or'\\0',i+1)\n",
    "                str2 = str1[i+1:k]\n",
    "                company_data.append(str2)\n",
    "        print(company_data)\n",
    "        print(\"\\n\")\n",
    "        name.append(company_data[0])\n",
    "        cin.append(company_data[1])\n",
    "        status.append(company_data[2])\n",
    "        class_.append(company_data[3])\n",
    "        category.append(company_data[4])\n",
    "        capital.append(company_data[5])\n",
    "        p_capital.append(company_data[6])\n",
    "        date.append(company_data[7])\n",
    "        activity.append(company_data[8])\n",
    "        state.append(company_data[9])\n",
    "        district.append(company_data[10])\n",
    "        addr.append(company_data[11])\n",
    "        #pincode_.append(pincode)\n",
    "        #print(pincode_)\n",
    "    df = pd.DataFrame({'PIN-CODE':pincode,'Name': name,\n",
    "                       'CIN': cin,\n",
    "                       'Status': status,\n",
    "                       'Class': class_,\n",
    "                       'Category': category,'Authorize Capital': capital,'Paid-Up Capital': p_capital,'Registration data': date,'Activity': activity,'State': state,'District': district,'Address': addr})\n",
    "\n",
    "        \n",
    "    \n",
    "    #name = r\"F:\\Company Data\\\\\"+pincode+\".xlsx\"\n",
    "    #writer=pd.ExcelWriter(name,options={'encoding':'utf-8'})\n",
    "    #df.to_excel(writer,'Sheet 1',encoding='utf8')\n",
    "    #writer.save()\n",
    "    return (df)\n",
    "    \n",
    "    \n",
    "        #create_excel()\n",
    "\n"
   ]
  },
  {
   "cell_type": "code",
   "execution_count": null,
   "metadata": {},
   "outputs": [],
   "source": [
    "def create_excel(state_,data_frame):\n",
    "    name = \"F:\\Company Data\\\\\"+state_+\".xlsx\"\n",
    "    #print (name)\n",
    "    writer=pd.ExcelWriter(name,options={'encoding':'utf-8'})\n",
    "    data_frame.to_excel(writer,'Sheet 1',encoding='utf8')\n",
    "    writer.save()\n",
    "    \n",
    "\n",
    "\n",
    "#create_excel(\"westbengal\")  "
   ]
  },
  {
   "cell_type": "code",
   "execution_count": null,
   "metadata": {},
   "outputs": [],
   "source": [
    "state_data=pd.DataFrame()\n",
    "\n",
    "l=len(df2)\n",
    "for i in range(l):\n",
    "    s=df2.iloc[i][0]\n",
    "    s1=df2.iloc[i+1][0]\n",
    "    a=\"Delhi\"\n",
    "    #a = 'Andhra Pradesh '\n",
    "    #print(s, s==a)\n",
    "    #print (type(s),type(s))\n",
    "    if (s == a):\n",
    "        code=df2.iloc[i][1]\n",
    "        code_ = str(code)\n",
    "        #print(code_, type(code_),s,s1, s is s1)\n",
    "        #code_=code.str()\n",
    "        data=pd.DataFrame()\n",
    "        data = search_engine(code_)\n",
    "        #type(data)\n",
    "        state_data = state_data.append(data)\n",
    "        if ((s is not s1)):\n",
    "            create_excel(s,state_data)\n",
    "            state_data=pd.DataFrame()\n",
    "            break;\n",
    "\n",
    "    \n",
    "\n",
    "    #if (i==50):\n",
    "       # break;\n",
    "    \n",
    "\n",
    "state_data    "
   ]
  },
  {
   "cell_type": "code",
   "execution_count": null,
   "metadata": {},
   "outputs": [],
   "source": [
    "state_data"
   ]
  }
 ],
 "metadata": {
  "kernelspec": {
   "display_name": "Python 3",
   "language": "python",
   "name": "python3"
  },
  "language_info": {
   "codemirror_mode": {
    "name": "ipython",
    "version": 3
   },
   "file_extension": ".py",
   "mimetype": "text/x-python",
   "name": "python",
   "nbconvert_exporter": "python",
   "pygments_lexer": "ipython3",
   "version": "3.6.4"
  }
 },
 "nbformat": 4,
 "nbformat_minor": 2
}
